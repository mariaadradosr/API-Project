{
 "cells": [
  {
   "cell_type": "code",
   "execution_count": 1,
   "metadata": {},
   "outputs": [],
   "source": [
    "import requests\n",
    "import mongodb\n",
    "import pandas as pd\n",
    "import json\n",
    "from bson import ObjectId\n",
    "import matplotlib.pyplot as plt\n",
    "import numpy as np\n",
    "import scipy.stats as stats\n",
    "import math\n",
    "import seaborn as sns\n",
    "import pandas as pd\n",
    "from sklearn.feature_extraction.text import CountVectorizer\n",
    "from sklearn.metrics.pairwise import cosine_similarity as distance"
   ]
  },
  {
   "cell_type": "code",
   "execution_count": 256,
   "metadata": {},
   "outputs": [
    {
     "name": "stdout",
     "output_type": "stream",
     "text": [
      "3.7.3\n"
     ]
    }
   ],
   "source": [
    "from platform import python_version\n",
    "print(python_version())"
   ]
  },
  {
   "cell_type": "code",
   "execution_count": 258,
   "metadata": {},
   "outputs": [
    {
     "name": "stdout",
     "output_type": "stream",
     "text": [
      "/Applications/Xcode.app/Contents/Developer/usr/bin/python3\n",
      "3.7.3 (default, Oct 11 2019, 19:39:43) \n",
      "[Clang 11.0.0 (clang-1100.0.33.12)]\n",
      "sys.version_info(major=3, minor=7, micro=3, releaselevel='final', serial=0)\n"
     ]
    }
   ],
   "source": [
    "import sys\n",
    "print(sys.executable)\n",
    "print(sys.version)\n",
    "print(sys.version_info)"
   ]
  },
  {
   "cell_type": "code",
   "execution_count": 5,
   "metadata": {},
   "outputs": [],
   "source": [
    "db, users = mongodb.connectCollection('API_Project','users')\n",
    "db, chats = mongodb.connectCollection('API_Project','chats')\n",
    "db, messages = mongodb.connectCollection('API_Project','messages')"
   ]
  },
  {
   "cell_type": "code",
   "execution_count": 2,
   "metadata": {},
   "outputs": [
    {
     "data": {
      "text/plain": [
       "'Welcome to my API! :) '"
      ]
     },
     "execution_count": 2,
     "metadata": {},
     "output_type": "execute_result"
    }
   ],
   "source": [
    "data = requests.get('http://localhost:8080/')\n",
    "data.text"
   ]
  },
  {
   "cell_type": "code",
   "execution_count": 2,
   "metadata": {},
   "outputs": [
    {
     "data": {
      "text/plain": [
       "'Leia Organa (5de280d633ba2628285db85b) friend recommedation -----> Tony Stark (5de280d633ba2628285db85c)'"
      ]
     },
     "execution_count": 2,
     "metadata": {},
     "output_type": "execute_result"
    }
   ],
   "source": [
    "url = 'http://localhost:8080/user/5de280d633ba2628285db85b/recommend'\n",
    "requests.get(url).text"
   ]
  },
  {
   "cell_type": "code",
   "execution_count": 2,
   "metadata": {},
   "outputs": [
    {
     "data": {
      "text/plain": [
       "{'Hey Mike, whats up??': {'neg': 0.0, 'neu': 1.0, 'pos': 0.0, 'compound': 0.0},\n",
       " 'Dude!!! 😀️ Did you watch the game last night?': {'neg': 0.0,\n",
       "  'neu': 1.0,\n",
       "  'pos': 0.0,\n",
       "  'compound': 0.0},\n",
       " 'No, had to work. How was it?': {'neg': 0.268,\n",
       "  'neu': 0.732,\n",
       "  'pos': 0.0,\n",
       "  'compound': -0.296},\n",
       " 'Awesome! Boyander scored 3 goals!': {'neg': 0.0,\n",
       "  'neu': 0.39,\n",
       "  'pos': 0.61,\n",
       "  'compound': 0.6892},\n",
       " 'No way! 😮️': {'neg': 0.555, 'neu': 0.445, 'pos': 0.0, 'compound': -0.3595},\n",
       " 'Way...': {'neg': 0.0, 'neu': 1.0, 'pos': 0.0, 'compound': 0.0},\n",
       " 'I bet people went crazy': {'neg': 0.444,\n",
       "  'neu': 0.556,\n",
       "  'pos': 0.0,\n",
       "  'compound': -0.34},\n",
       " 'For sure. We stayed at KuboLoco until 6AM.': {'neg': 0.0,\n",
       "  'neu': 0.753,\n",
       "  'pos': 0.247,\n",
       "  'compound': 0.3182},\n",
       " 'Motherfucker! Hungover? 😵️': {'neg': 0.71,\n",
       "  'neu': 0.29,\n",
       "  'pos': 0.0,\n",
       "  'compound': -0.7088},\n",
       " 'Dead, burried and still suffering! 🤮️': {'neg': 0.658,\n",
       "  'neu': 0.342,\n",
       "  'pos': 0.0,\n",
       "  'compound': -0.8268}}"
      ]
     },
     "execution_count": 2,
     "metadata": {},
     "output_type": "execute_result"
    }
   ],
   "source": [
    "url = 'http://localhost:8080/chat/5de296ee1821b6e70cb16f80/sentiment'\n",
    "requests.get(url).json()"
   ]
  },
  {
   "cell_type": "markdown",
   "metadata": {},
   "source": [
    "## add Original Conversation Dataset"
   ]
  },
  {
   "cell_type": "code",
   "execution_count": 6,
   "metadata": {},
   "outputs": [],
   "source": [
    "with open ('../input/chats.json') as json_file:\n",
    "    data = json.load(json_file)"
   ]
  },
  {
   "cell_type": "code",
   "execution_count": 4,
   "metadata": {},
   "outputs": [
    {
     "data": {
      "text/plain": [
       "['John Wick',\n",
       " 'Mike Wazowski',\n",
       " 'Leia Organa',\n",
       " 'Tony Stark',\n",
       " 'Ellen Ripley',\n",
       " 'J. Jonah Jameson',\n",
       " 'Danny Torrances Finger',\n",
       " 'Danny Torrance']"
      ]
     },
     "execution_count": 4,
     "metadata": {},
     "output_type": "execute_result"
    }
   ],
   "source": [
    "# Creating users list:\n",
    "u = []\n",
    "for e in data:\n",
    "    if e['userName'] not in u:\n",
    "        u.append(e['userName'])\n",
    "u"
   ]
  },
  {
   "cell_type": "code",
   "execution_count": 5,
   "metadata": {},
   "outputs": [
    {
     "name": "stdout",
     "output_type": "stream",
     "text": [
      "John Wick {\"inserted_doc\": \"5de280d633ba2628285db859\"}\n",
      "Mike Wazowski {\"inserted_doc\": \"5de280d633ba2628285db85a\"}\n",
      "Leia Organa {\"inserted_doc\": \"5de280d633ba2628285db85b\"}\n",
      "Tony Stark {\"inserted_doc\": \"5de280d633ba2628285db85c\"}\n",
      "Ellen Ripley {\"inserted_doc\": \"5de280d633ba2628285db85d\"}\n",
      "J. Jonah Jameson {\"inserted_doc\": \"5de280d633ba2628285db85e\"}\n",
      "Danny Torrances Finger {\"inserted_doc\": \"5de280d633ba2628285db85f\"}\n",
      "Danny Torrance {\"inserted_doc\": \"5de280d633ba2628285db860\"}\n"
     ]
    }
   ],
   "source": [
    "mongodb.createMultipleUsers(u)"
   ]
  },
  {
   "cell_type": "code",
   "execution_count": 4,
   "metadata": {},
   "outputs": [
    {
     "name": "stdout",
     "output_type": "stream",
     "text": [
      "1 {\"inserted_doc\": \"5de296ee1821b6e70cb16f80\"}\n",
      "2 {\"inserted_doc\": \"5de296ee1821b6e70cb16f81\"}\n",
      "3 {\"inserted_doc\": \"5de296ee1821b6e70cb16f82\"}\n",
      "4 {\"inserted_doc\": \"5de296ee1821b6e70cb16f83\"}\n",
      "5 {\"inserted_doc\": \"5de296ee1821b6e70cb16f84\"}\n"
     ]
    }
   ],
   "source": [
    "mongodb.createMultipleChats(5)"
   ]
  },
  {
   "cell_type": "code",
   "execution_count": 7,
   "metadata": {},
   "outputs": [],
   "source": [
    "df = pd.DataFrame(data)"
   ]
  },
  {
   "cell_type": "code",
   "execution_count": 8,
   "metadata": {},
   "outputs": [
    {
     "data": {
      "text/html": [
       "<div>\n",
       "<style scoped>\n",
       "    .dataframe tbody tr th:only-of-type {\n",
       "        vertical-align: middle;\n",
       "    }\n",
       "\n",
       "    .dataframe tbody tr th {\n",
       "        vertical-align: top;\n",
       "    }\n",
       "\n",
       "    .dataframe thead th {\n",
       "        text-align: right;\n",
       "    }\n",
       "</style>\n",
       "<table border=\"1\" class=\"dataframe\">\n",
       "  <thead>\n",
       "    <tr style=\"text-align: right;\">\n",
       "      <th></th>\n",
       "      <th>idUser</th>\n",
       "      <th>userName</th>\n",
       "      <th>idMessage</th>\n",
       "      <th>idChat</th>\n",
       "      <th>datetime</th>\n",
       "      <th>text</th>\n",
       "    </tr>\n",
       "  </thead>\n",
       "  <tbody>\n",
       "    <tr>\n",
       "      <th>0</th>\n",
       "      <td>0</td>\n",
       "      <td>John Wick</td>\n",
       "      <td>0</td>\n",
       "      <td>0</td>\n",
       "      <td>2019-10-17 10:15:41</td>\n",
       "      <td>Hey Mike, whats up??</td>\n",
       "    </tr>\n",
       "    <tr>\n",
       "      <th>1</th>\n",
       "      <td>1</td>\n",
       "      <td>Mike Wazowski</td>\n",
       "      <td>1</td>\n",
       "      <td>0</td>\n",
       "      <td>2019-10-17 10:16:59</td>\n",
       "      <td>Dude!!! 😀️ Did you watch the game last night?</td>\n",
       "    </tr>\n",
       "  </tbody>\n",
       "</table>\n",
       "</div>"
      ],
      "text/plain": [
       "   idUser       userName  idMessage  idChat             datetime  \\\n",
       "0       0      John Wick          0       0  2019-10-17 10:15:41   \n",
       "1       1  Mike Wazowski          1       0  2019-10-17 10:16:59   \n",
       "\n",
       "                                            text  \n",
       "0                           Hey Mike, whats up??  \n",
       "1  Dude!!! 😀️ Did you watch the game last night?  "
      ]
     },
     "execution_count": 8,
     "metadata": {},
     "output_type": "execute_result"
    }
   ],
   "source": [
    "df.head(2)"
   ]
  },
  {
   "cell_type": "code",
   "execution_count": 27,
   "metadata": {},
   "outputs": [
    {
     "data": {
      "text/plain": [
       "[{'chatId': ObjectId('5de296ee1821b6e70cb16f80'),\n",
       "  'userId': [ObjectId('5de280d633ba2628285db859'),\n",
       "   ObjectId('5de280d633ba2628285db85a')]},\n",
       " {'chatId': ObjectId('5de296ee1821b6e70cb16f81'),\n",
       "  'userId': [ObjectId('5de280d633ba2628285db85b'),\n",
       "   ObjectId('5de280d633ba2628285db85c')]},\n",
       " {'chatId': ObjectId('5de296ee1821b6e70cb16f82'),\n",
       "  'userId': [ObjectId('5de280d633ba2628285db85a'),\n",
       "   ObjectId('5de280d633ba2628285db85d')]},\n",
       " {'chatId': ObjectId('5de296ee1821b6e70cb16f83'),\n",
       "  'userId': [ObjectId('5de280d633ba2628285db859'),\n",
       "   ObjectId('5de280d633ba2628285db85e')]},\n",
       " {'chatId': ObjectId('5de296ee1821b6e70cb16f84'),\n",
       "  'userId': [ObjectId('5de280d633ba2628285db85f'),\n",
       "   ObjectId('5de280d633ba2628285db860')]}]"
      ]
     },
     "execution_count": 27,
     "metadata": {},
     "output_type": "execute_result"
    }
   ],
   "source": [
    "df['userId'] = df.userName.apply(lambda x: list(users.find({'name':x}))[0]['_id'])\n",
    "df['chatId'] = df.idChat.apply(lambda x: list(chats.find({}))[x]['_id'])\n",
    "e = df[['chatId', 'userId']].groupby(['chatId','userId']).count().reset_index()\n",
    "h = e.groupby('chatId').userId.apply(list).reset_index()\n",
    "base_members = h.to_dict(orient='records')\n",
    "base_members"
   ]
  },
  {
   "cell_type": "code",
   "execution_count": 40,
   "metadata": {},
   "outputs": [],
   "source": [
    "db = df.to_dict(orient='records')"
   ]
  },
  {
   "cell_type": "code",
   "execution_count": 91,
   "metadata": {},
   "outputs": [],
   "source": [
    "t = list(messages.find({}))[2]['markdown']"
   ]
  },
  {
   "cell_type": "code",
   "execution_count": 92,
   "metadata": {},
   "outputs": [
    {
     "data": {
      "text/plain": [
       "'No, had to work. How was it?'"
      ]
     },
     "execution_count": 92,
     "metadata": {},
     "output_type": "execute_result"
    }
   ],
   "source": [
    "frase = t.encode('latin-1').decode('utf-8')\n",
    "frase"
   ]
  },
  {
   "cell_type": "markdown",
   "metadata": {},
   "source": [
    "## Sentiment \n"
   ]
  },
  {
   "cell_type": "code",
   "execution_count": 13,
   "metadata": {},
   "outputs": [],
   "source": [
    "from textblob import TextBlob \n",
    "import nltk\n",
    "from nltk.sentiment.vader import SentimentIntensityAnalyzer"
   ]
  },
  {
   "cell_type": "code",
   "execution_count": 14,
   "metadata": {},
   "outputs": [],
   "source": [
    "sid = SentimentIntensityAnalyzer()"
   ]
  },
  {
   "cell_type": "code",
   "execution_count": 18,
   "metadata": {},
   "outputs": [],
   "source": [
    "def getChatSentiment(chat, coll, coll_messages):\n",
    "    sid = SentimentIntensityAnalyzer()\n",
    "    m = coll_messages.find({'chat_id':chat})\n",
    "    out = {}\n",
    "    for message in m :\n",
    "        sentence = message['markdown'].encode('latin-1').decode('utf-8')\n",
    "        out[sentence] = sid.polarity_scores(sentence)\n",
    "    return out"
   ]
  },
  {
   "cell_type": "code",
   "execution_count": 20,
   "metadata": {},
   "outputs": [],
   "source": [
    "chat = '5de296ee1821b6e70cb16f80'\n",
    "coll = chats\n",
    "coll_messages = messages\n",
    "out = getChatSentiment(chat, coll, coll_messages)"
   ]
  },
  {
   "cell_type": "code",
   "execution_count": 21,
   "metadata": {},
   "outputs": [],
   "source": [
    "outDf = pd.DataFrame(out).T"
   ]
  },
  {
   "cell_type": "code",
   "execution_count": 25,
   "metadata": {},
   "outputs": [],
   "source": [
    "def getChatPDF(out):\n",
    "    outDf = pd.DataFrame(out).T\n",
    "    \n",
    "    mu = outDf.describe()['compound']['mean']\n",
    "    sigma = outDf.describe()['compound']['std']\n",
    "    x = np.linspace(mu - 3*sigma, mu + 3*sigma, 100)\n",
    "\n",
    "    fig, ax = plt.subplots(figsize=(5,3.5), dpi= 80)\n",
    "    ax.plot(x, stats.norm.pdf(x, mu, sigma), color='grey',  lw=4, label='norm pdf')\n",
    "    ax.set_title(f'Compound conversation \\n Probability density function\\n ', size=12, color ='black')\n",
    "    ax.axvline(x=mu, color='grey', label=str(mu)[:5])\n",
    "    ax.axvline(x=mu - 2*sigma, color='orange', linestyle = '--', label=str(stats.norm.cdf(mu-2*sigma,mu, sigma)*100)[:4])\n",
    "    ax.axvline(x=mu + 2*sigma, color='green',  linestyle = '--',label=str(stats.norm.cdf(mu+2*sigma,mu, sigma)*100)[:4])\n",
    "    ax.legend()\n",
    "    ax.spines['top'].set_color('#a8a4a2')\n",
    "    ax.spines['right'].set_color('#a8a4a2')\n",
    "    ax.spines['bottom'].set_color('#a8a4a2')\n",
    "    ax.spines['left'].set_color('#a8a4a2')"
   ]
  },
  {
   "cell_type": "code",
   "execution_count": 26,
   "metadata": {
    "scrolled": true
   },
   "outputs": [
    {
     "data": {
      "image/png": "[encoded data removed]",
      "text/plain": [
       "<Figure size 400x280 with 1 Axes>"
      ]
     },
     "metadata": {
      "needs_background": "light"
     },
     "output_type": "display_data"
    }
   ],
   "source": [
    "getChatPDF(out)"
   ]
  },
  {
   "cell_type": "code",
   "execution_count": 27,
   "metadata": {},
   "outputs": [],
   "source": [
    "def getChatEvol(out):\n",
    "    outDf = pd.DataFrame(out).T\n",
    "    y = outDf['compound']\n",
    "    x = range(len(y))\n",
    "    \n",
    "    fig, ax = plt.subplots(figsize=(7,4), dpi= 80)\n",
    "\n",
    "    ax.plot(x,y, c='grey', marker = 'o', markersize = 3)\n",
    "    ax.fill_between(x[1:], y[1:], 0, where=y[1:] >= 0, facecolor='green', interpolate=True, alpha=0.7)\n",
    "    ax.fill_between(x[1:], y[1:], 0, where=y[1:] <= 0, facecolor='red', interpolate=True, alpha=0.7)\n",
    "    ax.spines['top'].set_visible(False)\n",
    "    ax.spines['right'].set_visible(False)\n",
    "    ax.set_title(\"Chat Compound Score Evolution\\n\", fontsize=12)\n",
    "    ax.set_ylabel('compound score')\n",
    "    ax.set_xlabel('messages')\n",
    "    ax.grid(color='grey', linestyle='-', linewidth=0.4, alpha=0.5)\n",
    "    ax.spines['bottom'].set_color('#a8a4a2')\n",
    "    ax.spines['left'].set_color('#a8a4a2')\n"
   ]
  },
  {
   "cell_type": "code",
   "execution_count": 28,
   "metadata": {},
   "outputs": [
    {
     "data": {
      "image/png": "[encoded data removed]",
      "text/plain": [
       "<Figure size 560x320 with 1 Axes>"
      ]
     },
     "metadata": {
      "needs_background": "light"
     },
     "output_type": "display_data"
    }
   ],
   "source": [
    "getChatEvol(out)"
   ]
  },
  {
   "cell_type": "markdown",
   "metadata": {},
   "source": [
    "## Recommendation"
   ]
  },
  {
   "cell_type": "code",
   "execution_count": null,
   "metadata": {},
   "outputs": [],
   "source": [
    "# message['markdown'].encode('latin-1').decode('utf-8')\n",
    "# e['markdown'].encode('latin-1').decode('utf-8')"
   ]
  },
  {
   "cell_type": "code",
   "execution_count": 121,
   "metadata": {},
   "outputs": [],
   "source": [
    "def getUserRecommendation(user_id, coll, users_coll):\n",
    "\n",
    "    col = {}\n",
    "    for e in list(users.find({})):\n",
    "        col[str(e['_id'])]=e['name']\n",
    "        \n",
    "    col_re = {v: k for k, v in col.items()}\n",
    "    \n",
    "    docs = {}\n",
    "    for e in list(messages.find({})):\n",
    "        docs[e['author_id']]=''\n",
    "\n",
    "    for e in list(messages.find({})):\n",
    "        for i in docs.keys():\n",
    "            if i == e['author_id']:\n",
    "                docs[i]+=' '+(e['markdown'].encode('latin-1').decode('utf-8'))\n",
    "    \n",
    "    # Create the Document Term Matrix\n",
    "    count_vectorizer = CountVectorizer(stop_words='english')\n",
    "    sparse_matrix = count_vectorizer.fit_transform(docs.values())\n",
    "    \n",
    "    doc_term_matrix = sparse_matrix.todense()\n",
    "    \n",
    "    # Convert Sparse Matrix to Pandas Dataframe if you want to see the word frequencies.\n",
    "    df = pd.DataFrame(doc_term_matrix, \n",
    "                      columns=count_vectorizer.get_feature_names(), \n",
    "                      index=docs.keys())\n",
    "\n",
    "    df.index = df.index.to_series().apply(lambda x: col[x])\n",
    "    \n",
    "    # Compute Cosine Similarity matrix (or selected distance)\n",
    "    similarity_matrix = distance(df, df)\n",
    "    \n",
    "    sim_df = pd.DataFrame(similarity_matrix, columns=df.index, index=df.index)\n",
    "    \n",
    "    # Max similarities of related documents\n",
    "    \n",
    "    np.fill_diagonal(sim_df.values, 0) # Remove diagonal max values and set those to 0\n",
    "    out = sim_df.idxmax()\n",
    "    name = col[user_id]\n",
    "    result = out[name]\n",
    "    friend_id = col_re[result]\n",
    "    return f'{name} ({user_id}) friend recommedation -----> {result} ({friend_id})'\n"
   ]
  },
  {
   "cell_type": "code",
   "execution_count": 122,
   "metadata": {},
   "outputs": [
    {
     "data": {
      "text/plain": [
       "'Mike Wazowski (5de280d633ba2628285db85a) friend recommedation -----> John Wick (5de280d633ba2628285db859)'"
      ]
     },
     "execution_count": 122,
     "metadata": {},
     "output_type": "execute_result"
    }
   ],
   "source": [
    "getUserRecommendation(messages, users, '5de280d633ba2628285db85a')"
   ]
  },
  {
   "cell_type": "code",
   "execution_count": 77,
   "metadata": {},
   "outputs": [],
   "source": [
    "col = {}\n",
    "for e in list(users.find({})):\n",
    "    col[str(e['_id'])]=e['name']"
   ]
  },
  {
   "cell_type": "code",
   "execution_count": 120,
   "metadata": {},
   "outputs": [
    {
     "data": {
      "text/plain": [
       "{'John Wick': '5de280d633ba2628285db859',\n",
       " 'Mike Wazowski': '5de280d633ba2628285db85a',\n",
       " 'Leia Organa': '5de280d633ba2628285db85b',\n",
       " 'Tony Stark': '5de280d633ba2628285db85c',\n",
       " 'Ellen Ripley': '5de280d633ba2628285db85d',\n",
       " 'J. Jonah Jameson': '5de280d633ba2628285db85e',\n",
       " 'Danny Torrances Finger': '5de280d633ba2628285db85f',\n",
       " 'Danny Torrance': '5de280d633ba2628285db860'}"
      ]
     },
     "execution_count": 120,
     "metadata": {},
     "output_type": "execute_result"
    }
   ],
   "source": [
    "col_re = {v: k for k, v in col.items()}\n",
    "col_re"
   ]
  },
  {
   "cell_type": "code",
   "execution_count": 52,
   "metadata": {},
   "outputs": [],
   "source": [
    "docs = {}\n",
    "for e in list(messages.find({})):\n",
    "    docs[e['author_id']]=''\n",
    "\n",
    "for e in list(messages.find({})):\n",
    "    for i in docs.keys():\n",
    "        if i == e['author_id']:\n",
    "            docs[i]+=' '+(e['markdown'].encode('latin-1').decode('utf-8'))"
   ]
  },
  {
   "cell_type": "code",
   "execution_count": 53,
   "metadata": {},
   "outputs": [
    {
     "data": {
      "text/plain": [
       "dict_values([' Hey Mike, whats up?? No, had to work. How was it? No way! 😮️ I bet people went crazy Motherfucker! Hungover? 😵️ Sure, boss. I do! I just dont feel appreciated in my job I dunno... Maybe Thank you, boss! I feel much better...', ' Dude!!! 😀️ Did you watch the game last night? Awesome! Boyander scored 3 goals! Way... For sure. We stayed at KuboLoco until 6AM. Dead, burried and still suffering! 🤮️ Sweety pie! How Ive longed to talk to you. Its Mike, honey bunny. Or doctor LOVE! And youre a sick little girl. Cant handle me on your own? That would be hot... 🔥️ I NEED VODKA LIKE A CAR NEEDS GAS', ' Im so angry right now! Impossible! Cant do it! Just cant! He pissed me off so much. But how am I suposed to fix the facial recognition system if it doesnt even work? And who the hell is Tony? 🤯️ Oh shit. I think youre friends with my brother.', ' I saw you this morning. You shouldnt get so upset. ❤️ Dont get so frustrated, Leia. Remember what German said. Im sure you will find a way. I am Iron Man Uh-Oh. Better fix that quickly.', ' Not again, Michael.... 😒️ Im gonna report you to Human Resources again, Michael. Id rather have a fucking alien crawling out of my ass Ok, youve got to stop drinking! Im calling HR. Dude... Alcoholics Anonymous: https://www.aa.org', ' I want pictures of Spiderman and I want them now! Youve got to take me seriously. Thats why youve got to get those damm pictures!! Get the god damn motherfucking fuckity fuck bloody ballsack pictures Youve got to! And I believe in you', ' REDRUM REDRUM REDRUM REDRUM Murder, bro, cold blooded splashy murderous fun A nice day to create havoc! Fishing sounds good. What about the labyrinth?', ' What was that? Did you mean red room? Id love a red room. Chill out, pinky.. Its such a nice day Ill go for a walk in the park, I guess. Maybe fishing No! That places creeps me out..'])"
      ]
     },
     "execution_count": 53,
     "metadata": {},
     "output_type": "execute_result"
    }
   ],
   "source": [
    "docs.values()"
   ]
  },
  {
   "cell_type": "code",
   "execution_count": 54,
   "metadata": {},
   "outputs": [
    {
     "data": {
      "text/plain": [
       "<8x152 sparse matrix of type '<class 'numpy.int64'>'\n",
       "\twith 176 stored elements in Compressed Sparse Row format>"
      ]
     },
     "execution_count": 54,
     "metadata": {},
     "output_type": "execute_result"
    }
   ],
   "source": [
    "# Create the Document Term Matrix\n",
    "count_vectorizer = CountVectorizer(stop_words='english')\n",
    "sparse_matrix = count_vectorizer.fit_transform(docs.values())\n",
    "sparse_matrix"
   ]
  },
  {
   "cell_type": "code",
   "execution_count": 87,
   "metadata": {},
   "outputs": [],
   "source": [
    "# Convert Sparse Matrix to Pandas Dataframe if you want to see the word frequencies.\n",
    "doc_term_matrix = sparse_matrix.todense()\n",
    "df = pd.DataFrame(doc_term_matrix, \n",
    "                  columns=count_vectorizer.get_feature_names(), \n",
    "                  index=docs.keys())\n",
    "\n",
    "df.index = df.index.to_series().apply(lambda x: col[x])"
   ]
  },
  {
   "cell_type": "code",
   "execution_count": 88,
   "metadata": {},
   "outputs": [
    {
     "data": {
      "text/html": [
       "<div>\n",
       "<style scoped>\n",
       "    .dataframe tbody tr th:only-of-type {\n",
       "        vertical-align: middle;\n",
       "    }\n",
       "\n",
       "    .dataframe tbody tr th {\n",
       "        vertical-align: top;\n",
       "    }\n",
       "\n",
       "    .dataframe thead th {\n",
       "        text-align: right;\n",
       "    }\n",
       "</style>\n",
       "<table border=\"1\" class=\"dataframe\">\n",
       "  <thead>\n",
       "    <tr style=\"text-align: right;\">\n",
       "      <th></th>\n",
       "      <th>6am</th>\n",
       "      <th>aa</th>\n",
       "      <th>alcoholics</th>\n",
       "      <th>alien</th>\n",
       "      <th>angry</th>\n",
       "      <th>anonymous</th>\n",
       "      <th>appreciated</th>\n",
       "      <th>ass</th>\n",
       "      <th>awesome</th>\n",
       "      <th>ballsack</th>\n",
       "      <th>...</th>\n",
       "      <th>walk</th>\n",
       "      <th>want</th>\n",
       "      <th>watch</th>\n",
       "      <th>way</th>\n",
       "      <th>went</th>\n",
       "      <th>whats</th>\n",
       "      <th>work</th>\n",
       "      <th>www</th>\n",
       "      <th>youre</th>\n",
       "      <th>youve</th>\n",
       "    </tr>\n",
       "  </thead>\n",
       "  <tbody>\n",
       "    <tr>\n",
       "      <th>John Wick</th>\n",
       "      <td>0</td>\n",
       "      <td>0</td>\n",
       "      <td>0</td>\n",
       "      <td>0</td>\n",
       "      <td>0</td>\n",
       "      <td>0</td>\n",
       "      <td>1</td>\n",
       "      <td>0</td>\n",
       "      <td>0</td>\n",
       "      <td>0</td>\n",
       "      <td>...</td>\n",
       "      <td>0</td>\n",
       "      <td>0</td>\n",
       "      <td>0</td>\n",
       "      <td>1</td>\n",
       "      <td>1</td>\n",
       "      <td>1</td>\n",
       "      <td>1</td>\n",
       "      <td>0</td>\n",
       "      <td>0</td>\n",
       "      <td>0</td>\n",
       "    </tr>\n",
       "    <tr>\n",
       "      <th>Mike Wazowski</th>\n",
       "      <td>1</td>\n",
       "      <td>0</td>\n",
       "      <td>0</td>\n",
       "      <td>0</td>\n",
       "      <td>0</td>\n",
       "      <td>0</td>\n",
       "      <td>0</td>\n",
       "      <td>0</td>\n",
       "      <td>1</td>\n",
       "      <td>0</td>\n",
       "      <td>...</td>\n",
       "      <td>0</td>\n",
       "      <td>0</td>\n",
       "      <td>1</td>\n",
       "      <td>1</td>\n",
       "      <td>0</td>\n",
       "      <td>0</td>\n",
       "      <td>0</td>\n",
       "      <td>0</td>\n",
       "      <td>1</td>\n",
       "      <td>0</td>\n",
       "    </tr>\n",
       "    <tr>\n",
       "      <th>Leia Organa</th>\n",
       "      <td>0</td>\n",
       "      <td>0</td>\n",
       "      <td>0</td>\n",
       "      <td>0</td>\n",
       "      <td>1</td>\n",
       "      <td>0</td>\n",
       "      <td>0</td>\n",
       "      <td>0</td>\n",
       "      <td>0</td>\n",
       "      <td>0</td>\n",
       "      <td>...</td>\n",
       "      <td>0</td>\n",
       "      <td>0</td>\n",
       "      <td>0</td>\n",
       "      <td>0</td>\n",
       "      <td>0</td>\n",
       "      <td>0</td>\n",
       "      <td>1</td>\n",
       "      <td>0</td>\n",
       "      <td>1</td>\n",
       "      <td>0</td>\n",
       "    </tr>\n",
       "    <tr>\n",
       "      <th>Tony Stark</th>\n",
       "      <td>0</td>\n",
       "      <td>0</td>\n",
       "      <td>0</td>\n",
       "      <td>0</td>\n",
       "      <td>0</td>\n",
       "      <td>0</td>\n",
       "      <td>0</td>\n",
       "      <td>0</td>\n",
       "      <td>0</td>\n",
       "      <td>0</td>\n",
       "      <td>...</td>\n",
       "      <td>0</td>\n",
       "      <td>0</td>\n",
       "      <td>0</td>\n",
       "      <td>1</td>\n",
       "      <td>0</td>\n",
       "      <td>0</td>\n",
       "      <td>0</td>\n",
       "      <td>0</td>\n",
       "      <td>0</td>\n",
       "      <td>0</td>\n",
       "    </tr>\n",
       "    <tr>\n",
       "      <th>Ellen Ripley</th>\n",
       "      <td>0</td>\n",
       "      <td>1</td>\n",
       "      <td>1</td>\n",
       "      <td>1</td>\n",
       "      <td>0</td>\n",
       "      <td>1</td>\n",
       "      <td>0</td>\n",
       "      <td>1</td>\n",
       "      <td>0</td>\n",
       "      <td>0</td>\n",
       "      <td>...</td>\n",
       "      <td>0</td>\n",
       "      <td>0</td>\n",
       "      <td>0</td>\n",
       "      <td>0</td>\n",
       "      <td>0</td>\n",
       "      <td>0</td>\n",
       "      <td>0</td>\n",
       "      <td>1</td>\n",
       "      <td>0</td>\n",
       "      <td>1</td>\n",
       "    </tr>\n",
       "    <tr>\n",
       "      <th>J. Jonah Jameson</th>\n",
       "      <td>0</td>\n",
       "      <td>0</td>\n",
       "      <td>0</td>\n",
       "      <td>0</td>\n",
       "      <td>0</td>\n",
       "      <td>0</td>\n",
       "      <td>0</td>\n",
       "      <td>0</td>\n",
       "      <td>0</td>\n",
       "      <td>1</td>\n",
       "      <td>...</td>\n",
       "      <td>0</td>\n",
       "      <td>2</td>\n",
       "      <td>0</td>\n",
       "      <td>0</td>\n",
       "      <td>0</td>\n",
       "      <td>0</td>\n",
       "      <td>0</td>\n",
       "      <td>0</td>\n",
       "      <td>0</td>\n",
       "      <td>3</td>\n",
       "    </tr>\n",
       "    <tr>\n",
       "      <th>Danny Torrances Finger</th>\n",
       "      <td>0</td>\n",
       "      <td>0</td>\n",
       "      <td>0</td>\n",
       "      <td>0</td>\n",
       "      <td>0</td>\n",
       "      <td>0</td>\n",
       "      <td>0</td>\n",
       "      <td>0</td>\n",
       "      <td>0</td>\n",
       "      <td>0</td>\n",
       "      <td>...</td>\n",
       "      <td>0</td>\n",
       "      <td>0</td>\n",
       "      <td>0</td>\n",
       "      <td>0</td>\n",
       "      <td>0</td>\n",
       "      <td>0</td>\n",
       "      <td>0</td>\n",
       "      <td>0</td>\n",
       "      <td>0</td>\n",
       "      <td>0</td>\n",
       "    </tr>\n",
       "    <tr>\n",
       "      <th>Danny Torrance</th>\n",
       "      <td>0</td>\n",
       "      <td>0</td>\n",
       "      <td>0</td>\n",
       "      <td>0</td>\n",
       "      <td>0</td>\n",
       "      <td>0</td>\n",
       "      <td>0</td>\n",
       "      <td>0</td>\n",
       "      <td>0</td>\n",
       "      <td>0</td>\n",
       "      <td>...</td>\n",
       "      <td>1</td>\n",
       "      <td>0</td>\n",
       "      <td>0</td>\n",
       "      <td>0</td>\n",
       "      <td>0</td>\n",
       "      <td>0</td>\n",
       "      <td>0</td>\n",
       "      <td>0</td>\n",
       "      <td>0</td>\n",
       "      <td>0</td>\n",
       "    </tr>\n",
       "  </tbody>\n",
       "</table>\n",
       "<p>8 rows × 152 columns</p>\n",
       "</div>"
      ],
      "text/plain": [
       "                        6am  aa  alcoholics  alien  angry  anonymous  \\\n",
       "John Wick                 0   0           0      0      0          0   \n",
       "Mike Wazowski             1   0           0      0      0          0   \n",
       "Leia Organa               0   0           0      0      1          0   \n",
       "Tony Stark                0   0           0      0      0          0   \n",
       "Ellen Ripley              0   1           1      1      0          1   \n",
       "J. Jonah Jameson          0   0           0      0      0          0   \n",
       "Danny Torrances Finger    0   0           0      0      0          0   \n",
       "Danny Torrance            0   0           0      0      0          0   \n",
       "\n",
       "                        appreciated  ass  awesome  ballsack  ...  walk  want  \\\n",
       "John Wick                         1    0        0         0  ...     0     0   \n",
       "Mike Wazowski                     0    0        1         0  ...     0     0   \n",
       "Leia Organa                       0    0        0         0  ...     0     0   \n",
       "Tony Stark                        0    0        0         0  ...     0     0   \n",
       "Ellen Ripley                      0    1        0         0  ...     0     0   \n",
       "J. Jonah Jameson                  0    0        0         1  ...     0     2   \n",
       "Danny Torrances Finger            0    0        0         0  ...     0     0   \n",
       "Danny Torrance                    0    0        0         0  ...     1     0   \n",
       "\n",
       "                        watch  way  went  whats  work  www  youre  youve  \n",
       "John Wick                   0    1     1      1     1    0      0      0  \n",
       "Mike Wazowski               1    1     0      0     0    0      1      0  \n",
       "Leia Organa                 0    0     0      0     1    0      1      0  \n",
       "Tony Stark                  0    1     0      0     0    0      0      0  \n",
       "Ellen Ripley                0    0     0      0     0    1      0      1  \n",
       "J. Jonah Jameson            0    0     0      0     0    0      0      3  \n",
       "Danny Torrances Finger      0    0     0      0     0    0      0      0  \n",
       "Danny Torrance              0    0     0      0     0    0      0      0  \n",
       "\n",
       "[8 rows x 152 columns]"
      ]
     },
     "metadata": {},
     "output_type": "display_data"
    }
   ],
   "source": [
    "display(df)"
   ]
  },
  {
   "cell_type": "code",
   "execution_count": 91,
   "metadata": {},
   "outputs": [
    {
     "name": "stdout",
     "output_type": "stream",
     "text": [
      "[[1.         0.09078413 0.08451543 0.16903085 0.         0.\n",
      "  0.         0.03857584]\n",
      " [0.09078413 1.         0.03580574 0.07161149 0.02875987 0.\n",
      "  0.         0.06537205]\n",
      " [0.08451543 0.03580574 1.         0.15       0.08032193 0.\n",
      "  0.         0.        ]\n",
      " [0.16903085 0.07161149 0.15       1.         0.08032193 0.\n",
      "  0.         0.        ]\n",
      " [0.         0.02875987 0.08032193 0.08032193 1.         0.16433731\n",
      "  0.         0.03666178]\n",
      " [0.         0.         0.         0.         0.16433731 1.\n",
      "  0.         0.        ]\n",
      " [0.         0.         0.         0.         0.         0.\n",
      "  1.         0.10998534]\n",
      " [0.03857584 0.06537205 0.         0.         0.03666178 0.\n",
      "  0.10998534 1.        ]]\n"
     ]
    }
   ],
   "source": [
    "from sklearn.metrics.pairwise import cosine_similarity as distance\n",
    "#from sklearn.metrics.pairwise import euclidean_distances as distance\n",
    "\n",
    "# Compute Cosine Similarity matrix (or selected distance)\n",
    "similarity_matrix = distance(df, df)\n",
    "print(similarity_matrix)"
   ]
  },
  {
   "cell_type": "code",
   "execution_count": 92,
   "metadata": {},
   "outputs": [
    {
     "data": {
      "text/html": [
       "<div>\n",
       "<style scoped>\n",
       "    .dataframe tbody tr th:only-of-type {\n",
       "        vertical-align: middle;\n",
       "    }\n",
       "\n",
       "    .dataframe tbody tr th {\n",
       "        vertical-align: top;\n",
       "    }\n",
       "\n",
       "    .dataframe thead th {\n",
       "        text-align: right;\n",
       "    }\n",
       "</style>\n",
       "<table border=\"1\" class=\"dataframe\">\n",
       "  <thead>\n",
       "    <tr style=\"text-align: right;\">\n",
       "      <th></th>\n",
       "      <th>John Wick</th>\n",
       "      <th>Mike Wazowski</th>\n",
       "      <th>Leia Organa</th>\n",
       "      <th>Tony Stark</th>\n",
       "      <th>Ellen Ripley</th>\n",
       "      <th>J. Jonah Jameson</th>\n",
       "      <th>Danny Torrances Finger</th>\n",
       "      <th>Danny Torrance</th>\n",
       "    </tr>\n",
       "  </thead>\n",
       "  <tbody>\n",
       "    <tr>\n",
       "      <th>John Wick</th>\n",
       "      <td>1.000000</td>\n",
       "      <td>0.090784</td>\n",
       "      <td>0.084515</td>\n",
       "      <td>0.169031</td>\n",
       "      <td>0.000000</td>\n",
       "      <td>0.000000</td>\n",
       "      <td>0.000000</td>\n",
       "      <td>0.038576</td>\n",
       "    </tr>\n",
       "    <tr>\n",
       "      <th>Mike Wazowski</th>\n",
       "      <td>0.090784</td>\n",
       "      <td>1.000000</td>\n",
       "      <td>0.035806</td>\n",
       "      <td>0.071611</td>\n",
       "      <td>0.028760</td>\n",
       "      <td>0.000000</td>\n",
       "      <td>0.000000</td>\n",
       "      <td>0.065372</td>\n",
       "    </tr>\n",
       "    <tr>\n",
       "      <th>Leia Organa</th>\n",
       "      <td>0.084515</td>\n",
       "      <td>0.035806</td>\n",
       "      <td>1.000000</td>\n",
       "      <td>0.150000</td>\n",
       "      <td>0.080322</td>\n",
       "      <td>0.000000</td>\n",
       "      <td>0.000000</td>\n",
       "      <td>0.000000</td>\n",
       "    </tr>\n",
       "    <tr>\n",
       "      <th>Tony Stark</th>\n",
       "      <td>0.169031</td>\n",
       "      <td>0.071611</td>\n",
       "      <td>0.150000</td>\n",
       "      <td>1.000000</td>\n",
       "      <td>0.080322</td>\n",
       "      <td>0.000000</td>\n",
       "      <td>0.000000</td>\n",
       "      <td>0.000000</td>\n",
       "    </tr>\n",
       "    <tr>\n",
       "      <th>Ellen Ripley</th>\n",
       "      <td>0.000000</td>\n",
       "      <td>0.028760</td>\n",
       "      <td>0.080322</td>\n",
       "      <td>0.080322</td>\n",
       "      <td>1.000000</td>\n",
       "      <td>0.164337</td>\n",
       "      <td>0.000000</td>\n",
       "      <td>0.036662</td>\n",
       "    </tr>\n",
       "    <tr>\n",
       "      <th>J. Jonah Jameson</th>\n",
       "      <td>0.000000</td>\n",
       "      <td>0.000000</td>\n",
       "      <td>0.000000</td>\n",
       "      <td>0.000000</td>\n",
       "      <td>0.164337</td>\n",
       "      <td>1.000000</td>\n",
       "      <td>0.000000</td>\n",
       "      <td>0.000000</td>\n",
       "    </tr>\n",
       "    <tr>\n",
       "      <th>Danny Torrances Finger</th>\n",
       "      <td>0.000000</td>\n",
       "      <td>0.000000</td>\n",
       "      <td>0.000000</td>\n",
       "      <td>0.000000</td>\n",
       "      <td>0.000000</td>\n",
       "      <td>0.000000</td>\n",
       "      <td>1.000000</td>\n",
       "      <td>0.109985</td>\n",
       "    </tr>\n",
       "    <tr>\n",
       "      <th>Danny Torrance</th>\n",
       "      <td>0.038576</td>\n",
       "      <td>0.065372</td>\n",
       "      <td>0.000000</td>\n",
       "      <td>0.000000</td>\n",
       "      <td>0.036662</td>\n",
       "      <td>0.000000</td>\n",
       "      <td>0.109985</td>\n",
       "      <td>1.000000</td>\n",
       "    </tr>\n",
       "  </tbody>\n",
       "</table>\n",
       "</div>"
      ],
      "text/plain": [
       "                        John Wick  Mike Wazowski  Leia Organa  Tony Stark  \\\n",
       "John Wick                1.000000       0.090784     0.084515    0.169031   \n",
       "Mike Wazowski            0.090784       1.000000     0.035806    0.071611   \n",
       "Leia Organa              0.084515       0.035806     1.000000    0.150000   \n",
       "Tony Stark               0.169031       0.071611     0.150000    1.000000   \n",
       "Ellen Ripley             0.000000       0.028760     0.080322    0.080322   \n",
       "J. Jonah Jameson         0.000000       0.000000     0.000000    0.000000   \n",
       "Danny Torrances Finger   0.000000       0.000000     0.000000    0.000000   \n",
       "Danny Torrance           0.038576       0.065372     0.000000    0.000000   \n",
       "\n",
       "                        Ellen Ripley  J. Jonah Jameson  \\\n",
       "John Wick                   0.000000          0.000000   \n",
       "Mike Wazowski               0.028760          0.000000   \n",
       "Leia Organa                 0.080322          0.000000   \n",
       "Tony Stark                  0.080322          0.000000   \n",
       "Ellen Ripley                1.000000          0.164337   \n",
       "J. Jonah Jameson            0.164337          1.000000   \n",
       "Danny Torrances Finger      0.000000          0.000000   \n",
       "Danny Torrance              0.036662          0.000000   \n",
       "\n",
       "                        Danny Torrances Finger  Danny Torrance  \n",
       "John Wick                             0.000000        0.038576  \n",
       "Mike Wazowski                         0.000000        0.065372  \n",
       "Leia Organa                           0.000000        0.000000  \n",
       "Tony Stark                            0.000000        0.000000  \n",
       "Ellen Ripley                          0.000000        0.036662  \n",
       "J. Jonah Jameson                      0.000000        0.000000  \n",
       "Danny Torrances Finger                1.000000        0.109985  \n",
       "Danny Torrance                        0.109985        1.000000  "
      ]
     },
     "metadata": {},
     "output_type": "display_data"
    },
    {
     "data": {
      "text/plain": [
       "<matplotlib.axes._subplots.AxesSubplot at 0x120bd49b0>"
      ]
     },
     "execution_count": 92,
     "metadata": {},
     "output_type": "execute_result"
    },
    {
     "data": {
      "image/png": "[encoded data removed]",
      "text/plain": [
       "<Figure size 432x288 with 2 Axes>"
      ]
     },
     "metadata": {
      "needs_background": "light"
     },
     "output_type": "display_data"
    }
   ],
   "source": [
    "import seaborn as sns\n",
    "sim_df = pd.DataFrame(similarity_matrix, columns=df.index, index=df.index)\n",
    "display(sim_df)\n",
    "sns.heatmap(sim_df,annot=True)"
   ]
  },
  {
   "cell_type": "code",
   "execution_count": 101,
   "metadata": {},
   "outputs": [
    {
     "data": {
      "text/plain": [
       "John Wick                             Tony Stark\n",
       "Mike Wazowski                          John Wick\n",
       "Leia Organa                           Tony Stark\n",
       "Tony Stark                             John Wick\n",
       "Ellen Ripley                    J. Jonah Jameson\n",
       "J. Jonah Jameson                    Ellen Ripley\n",
       "Danny Torrances Finger            Danny Torrance\n",
       "Danny Torrance            Danny Torrances Finger\n",
       "dtype: object"
      ]
     },
     "execution_count": 101,
     "metadata": {},
     "output_type": "execute_result"
    }
   ],
   "source": [
    "# Max similarities of related documents\n",
    "import numpy as np\n",
    "np.fill_diagonal(sim_df.values, 0) # Remove diagonal max values and set those to 0\n",
    "a = sim_df.idxmax()\n",
    "a"
   ]
  },
  {
   "cell_type": "code",
   "execution_count": 109,
   "metadata": {},
   "outputs": [
    {
     "data": {
      "text/plain": [
       "'Tony Stark'"
      ]
     },
     "execution_count": 109,
     "metadata": {},
     "output_type": "execute_result"
    }
   ],
   "source": [
    "a['John Wick']"
   ]
  }
 ],
 "metadata": {
  "kernelspec": {
   "display_name": "Python 3",
   "language": "python",
   "name": "python3"
  },
  "language_info": {
   "codemirror_mode": {
    "name": "ipython",
    "version": 3
   },
   "file_extension": ".py",
   "mimetype": "text/x-python",
   "name": "python",
   "nbconvert_exporter": "python",
   "pygments_lexer": "ipython3",
   "version": "3.7.3"
  }
 },
 "nbformat": 4,
 "nbformat_minor": 2
}
